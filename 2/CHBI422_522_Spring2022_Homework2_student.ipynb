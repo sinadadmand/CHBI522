{
 "cells": [
  {
   "cell_type": "markdown",
   "metadata": {
    "id": "9b7ff968"
   },
   "source": [
    "Before you turn this problem in, make sure everything runs as expected. First, **restart the kernel** (in the menubar, select Runtime$\\rightarrow$Restart runtime) and then **run all cells** (in the menubar, select Runtime$\\rightarrow$Run all).\n",
    "\n",
    "Make sure you fill in any place that says `YOUR CODE HERE` or \"YOUR ANSWER HERE\", as well as your name and ID below:"
   ]
  },
  {
   "cell_type": "code",
   "execution_count": 1,
   "metadata": {
    "id": "73dd8720"
   },
   "outputs": [],
   "source": [
    "NAME = \"Sina Dadmand\"\n",
    "KUID = \"0078862\""
   ]
  },
  {
   "cell_type": "markdown",
   "metadata": {
    "id": "6fb01775"
   },
   "source": [
    "---"
   ]
  },
  {
   "cell_type": "markdown",
   "metadata": {
    "deletable": false,
    "editable": false,
    "id": "bb187111",
    "nbgrader": {
     "cell_type": "markdown",
     "checksum": "b07a67d800bc7d87aa7fe6b887f7a162",
     "grade": false,
     "grade_id": "cell-d31b679dc3f8697e",
     "locked": true,
     "schema_version": 3,
     "solution": false,
     "task": false
    }
   },
   "source": [
    "<h2 style=\"text-align: center; line-height: 0px;\">CHBI 422 / 522</h2>\n",
    "<h3 style=\"text-align: center; line-height: 0px;\">Spring 2022</h3>\n",
    "<h3 style=\"text-align: center; line-height: 0px;\">Homework 2</h3>\n",
    "<h4 style=\"text-align: center; line-height: 0px;\">Due date: March 23, 2022 - 23:59</h4>\n",
    "\n",
    "<hr>\n",
    "\n",
    "In this homework you are going to work with a pre-modified PDB file. You will be required to do calculate some angles, distances, and apply some transformations. This notebook will guide you through the steps of the homework. Check the provided test cases to make sure that you have the same requirement format.\n",
    "\n",
    "To complete these homeworks, you will use Google Colab.If you experience any problems please get in touch with the TA: zabali16@ku.edu.tr\n",
    "\n",
    "**Submission** <br>\n",
    "After you are done and passed all the test, please submit this notebook to Blackboard. If you are not getting full points from a test, you may be failing some hidden tests. Think about the edge cases (your code might be working in general, but failing for some special cases). Please do not forget to **save** your work before you submit, and **check** whether you are in the final version."
   ]
  },
  {
   "cell_type": "markdown",
   "metadata": {
    "deletable": false,
    "editable": false,
    "id": "447e210b",
    "nbgrader": {
     "cell_type": "markdown",
     "checksum": "beb4a4d68c81787e8fd47be20c2b878e",
     "grade": false,
     "grade_id": "cell-54d44a562da21c2f",
     "locked": true,
     "schema_version": 3,
     "solution": false,
     "task": false
    }
   },
   "source": [
    "**Importing Libraries** <br>\n",
    "Please run the below cell to import the necessary libraries. Do not import any libraries other then the ones provided. If a library, or function you want to use is not included in the following cell, then you are not allowed to use it for this homework."
   ]
  },
  {
   "cell_type": "code",
   "execution_count": null,
   "metadata": {
    "deletable": false,
    "editable": false,
    "id": "bf9e1e7d",
    "nbgrader": {
     "cell_type": "code",
     "checksum": "5af86b64d3b0b2d5bdf80b6dafecaaab",
     "grade": false,
     "grade_id": "cell-16df3b55f4fc3ca4",
     "locked": true,
     "schema_version": 3,
     "solution": false,
     "task": false
    }
   },
   "outputs": [],
   "source": [
    "import numpy as np\n",
    "import matplotlib.pyplot as plt"
   ]
  },
  {
   "cell_type": "markdown",
   "metadata": {
    "deletable": false,
    "editable": false,
    "id": "b76a99cc",
    "nbgrader": {
     "cell_type": "markdown",
     "checksum": "89e8f3c3110767b1626adb93fa382e54",
     "grade": false,
     "grade_id": "cell-4b531a1d56fd6802",
     "locked": true,
     "schema_version": 3,
     "solution": false,
     "task": false
    }
   },
   "source": [
    "### Part 1 - Reading a PDB File as a NumPy Array (10 points)"
   ]
  },
  {
   "cell_type": "markdown",
   "metadata": {
    "deletable": false,
    "editable": false,
    "id": "45fdce2f",
    "nbgrader": {
     "cell_type": "markdown",
     "checksum": "d357c5f8bc6d42497f9e211e05a18465",
     "grade": false,
     "grade_id": "cell-2639203a7b0ee4b5",
     "locked": true,
     "schema_version": 3,
     "solution": false,
     "task": false
    }
   },
   "source": [
    "Run the below cell to download the PDB file for this assignment."
   ]
  },
  {
   "cell_type": "code",
   "execution_count": 4,
   "metadata": {
    "colab": {
     "base_uri": "https://localhost:8080/"
    },
    "deletable": false,
    "editable": false,
    "id": "9db7d257",
    "nbgrader": {
     "cell_type": "code",
     "checksum": "be4de1adeb390445e9da51e8ce69de7b",
     "grade": false,
     "grade_id": "cell-560be145b4a4beb4",
     "locked": true,
     "schema_version": 3,
     "solution": false,
     "task": false
    },
    "outputId": "31348af9-0dd5-4d9f-a494-74f28417e29e"
   },
   "outputs": [
    {
     "name": "stdout",
     "output_type": "stream",
     "text": [
      "--2022-03-09 11:21:30--  https://raw.githubusercontent.com/zeynepabali/ku_chbi522/main/hw2.pdb\n",
      "Resolving raw.githubusercontent.com (raw.githubusercontent.com)... 185.199.111.133, 185.199.110.133, 185.199.109.133, ...\n",
      "Connecting to raw.githubusercontent.com (raw.githubusercontent.com)|185.199.111.133|:443... connected.\n",
      "HTTP request sent, awaiting response... 200 OK\n",
      "Length: 2430 (2.4K) [text/plain]\n",
      "Saving to: ‘hw2.pdb’\n",
      "\n",
      "hw2.pdb             100%[===================>]   2.37K  --.-KB/s    in 0s      \n",
      "\n",
      "2022-03-09 11:21:30 (20.9 MB/s) - ‘hw2.pdb’ saved [2430/2430]\n",
      "\n"
     ]
    }
   ],
   "source": [
    "!wget -O hw2.pdb https://raw.githubusercontent.com/zeynepabali/ku_chbi522/main/hw2.pdb"
   ]
  },
  {
   "cell_type": "markdown",
   "metadata": {
    "deletable": false,
    "editable": false,
    "id": "38821123",
    "nbgrader": {
     "cell_type": "markdown",
     "checksum": "352dc40024eb31fd4f64c6c663f348fd",
     "grade": false,
     "grade_id": "cell-c41614a2ce4ab389",
     "locked": true,
     "schema_version": 3,
     "solution": false,
     "task": false
    }
   },
   "source": [
    "A few sample lines from the downloaded file looks like below: <br>\n",
    "ATOM&emsp;1&emsp;N&ensp;&emsp;THR&emsp;1&emsp;-7.712&emsp;14.556&emsp;16.794&emsp;1.00&emsp;17.45&emsp;N <br>\n",
    "ATOM&emsp;2&emsp;CA&emsp;THR&emsp;1&emsp;-7.046&emsp;15.510&emsp;17.660&emsp;1.00&emsp;16.13&emsp;C <br>\n",
    "ATOM&emsp;3&emsp;C&ensp;&emsp;THR&emsp;1&emsp;-6.849&emsp;14.891&emsp;19.045&emsp;1.00&emsp;14.58&emsp;C <br>\n",
    "ATOM&emsp;8&emsp;N&ensp;&emsp;VAL&emsp;2&emsp;-5.693&emsp;15.098&emsp;19.646&emsp;1.00&emsp;12.07&emsp;N <br>\n",
    "ATOM&emsp;9&emsp;CA&emsp;VAL&emsp;2&emsp;-5.490&emsp;14.585&emsp;21.007&emsp;1.00&emsp;10.98&emsp;C\n",
    "\n",
    "This file is already cleaned for you. It only contains the backbone atoms (N, CA, C), and no side chain atoms for your convenience.\n",
    "\n",
    "Each column in this file has a meaning. Normally, PDB files include much more information than the atom position of a molecules atoms. You can check one if you wish to here: https://files.rcsb.org/view/1A09.pdb Let us go over what each column in this file tells us:\n",
    "\n",
    "**Column 1:** \"ATOM\" identifier specifies that this line gives information about an atom in the strucure. <br>\n",
    "**Column 2:** Atom number - They are not continues in our case, since we removed the side chain atoms. <br>\n",
    "**Column 3:** Atom type <br>\n",
    "**Column 4:** Residue type <br>\n",
    "**Column 5:** Residue number <br>\n",
    "**Column 6:** X coordinate <br>\n",
    "**Column 7:** Y coordinate <br>\n",
    "**Column 8:** Z coordinate <br>\n",
    "**Column 9:** Occupancy <br>\n",
    "**Column 10:** B factor <br>\n",
    "**Column 11:** Atom type\n",
    "\n",
    "Since we are interested in the coordinates of the atoms in this homework, we are going to use columns 3,5-8. Though, remember when you are coding that Python is zero-indexed."
   ]
  },
  {
   "cell_type": "code",
   "execution_count": null,
   "metadata": {
    "deletable": false,
    "id": "9063986b",
    "nbgrader": {
     "cell_type": "code",
     "checksum": "a66eb06faa61ad0588acca9976262658",
     "grade": false,
     "grade_id": "cell-39d6de068a9e4150",
     "locked": false,
     "schema_version": 3,
     "solution": true,
     "task": false
    }
   },
   "outputs": [],
   "source": [
    "def read_pdb_file(file_path):\n",
    "    \"\"\" Read the coordinates of atoms from a PDB file and return a dictionary of coordinate lists \n",
    "        You may want to check np.genfromtxt() and its additional parameters, or you can use any \n",
    "        file reading method you feel comfortable\n",
    "        You will need \"Atom type\", \"Residue Number\", \"X-Y-Z\" coordinates \n",
    "        Your final output should look like:\n",
    "        {\"Residue number\": {\"Atom type\": [x-y-z coordinates]}}\"\"\"\n",
    "    \n",
    "    # YOUR CODE HERE\n",
    "\n",
    "\n",
    "    return pdb_dict"
   ]
  },
  {
   "cell_type": "code",
   "execution_count": null,
   "metadata": {
    "deletable": false,
    "editable": false,
    "id": "5e93365e",
    "nbgrader": {
     "cell_type": "code",
     "checksum": "d24054b24ed1be2f9302c77cd4fbcae3",
     "grade": true,
     "grade_id": "cell-85a943573f9807bf",
     "locked": true,
     "points": 5,
     "schema_version": 3,
     "solution": false,
     "task": false
    }
   },
   "outputs": [],
   "source": [
    "assert len(read_pdb_file('hw2.pdb')) == 10\n",
    "assert read_pdb_file('hw2.pdb')[4] == {'N': [-6.222, 16.563, 26.096], 'CA': [-5.723, 16.132, 27.38], 'C': [-6.713, 16.614, 28.449]}\n",
    "assert read_pdb_file('hw2.pdb')[2]['N'] == [-5.693, 15.098, 19.646]\n",
    "assert read_pdb_file('hw2.pdb')[10]['CA'] == [-11.739, 13.008, 46.64]"
   ]
  },
  {
   "cell_type": "markdown",
   "metadata": {
    "deletable": false,
    "editable": false,
    "id": "c4c51026",
    "nbgrader": {
     "cell_type": "markdown",
     "checksum": "4839968030c2de056b85faf522c9f1eb",
     "grade": false,
     "grade_id": "cell-2a98bb92b8de939b",
     "locked": true,
     "schema_version": 3,
     "solution": false,
     "task": false
    }
   },
   "source": [
    "### Part 2 - Calculating the angles and transformation matrices by hand (25 Points)\n",
    "\n",
    "You can either type your solution using $\\LaTeX$ in the next cell, or you can upload a scanned copy of your hand-written solution to Blackboard (Please make sure that your hand-written solution is readable). You will get the full point for a correct solution in either case!\n",
    "\n",
    "Using $\\LaTeX$ may appear a bit complicated at first. But, we would suggest giving it a *few* chances. Here are some resources to help you with getting started:\n",
    "https://jupyterbook.org/content/math.html <br>\n",
    "https://www.overleaf.com/learn/latex/Mathematical_expressions\n",
    "\n",
    "Try to copy-paste a few equations from the first link to see how it works. Then you can work your way towards your own solution by changing bits and pieces."
   ]
  },
  {
   "cell_type": "markdown",
   "metadata": {
    "deletable": false,
    "editable": false,
    "id": "5c7adabc",
    "nbgrader": {
     "cell_type": "markdown",
     "checksum": "c87792cdc9fe1161a1afd9ae92baa670",
     "grade": false,
     "grade_id": "cell-cc0d932ae57c0cf1",
     "locked": true,
     "schema_version": 3,
     "solution": false,
     "task": false
    }
   },
   "source": [
    "Calculate the bond vectors, phi (𝜙), psi (𝜓), omega (𝜔), theta (𝜃) angles for **residue number 4 (TYR)**."
   ]
  },
  {
   "cell_type": "markdown",
   "metadata": {
    "deletable": false,
    "id": "1e7f966b",
    "nbgrader": {
     "cell_type": "code",
     "checksum": "3fc2725bfbbe2c7d4cf5e236d99cddd6",
     "grade": true,
     "grade_id": "cell-9bdf6b32d4168b6a",
     "locked": false,
     "points": 20,
     "schema_version": 3,
     "solution": true,
     "task": false
    }
   },
   "source": [
    "YOUR ANSWER HERE"
   ]
  },
  {
   "cell_type": "markdown",
   "metadata": {
    "deletable": false,
    "editable": false,
    "id": "314805ff",
    "nbgrader": {
     "cell_type": "markdown",
     "checksum": "1259441bca0acb12934760b7fc9128f8",
     "grade": false,
     "grade_id": "cell-e4f512c4595f53b3",
     "locked": true,
     "schema_version": 3,
     "solution": false,
     "task": false
    }
   },
   "source": [
    "Use transformation matrices to go back to rectilinear coordinate system."
   ]
  },
  {
   "cell_type": "markdown",
   "metadata": {
    "deletable": false,
    "id": "d2d791c4",
    "nbgrader": {
     "cell_type": "code",
     "checksum": "2d3ccf2ae59f1b9a758e34f8af16fd19",
     "grade": true,
     "grade_id": "cell-8b453a7131e60696",
     "locked": false,
     "points": 10,
     "schema_version": 3,
     "solution": true,
     "task": false
    }
   },
   "source": [
    "YOUR ANSWER HERE"
   ]
  },
  {
   "cell_type": "markdown",
   "metadata": {
    "deletable": false,
    "editable": false,
    "id": "f7a53d91",
    "nbgrader": {
     "cell_type": "markdown",
     "checksum": "37a1fa5fa1ecc1da42d7f993582441d9",
     "grade": false,
     "grade_id": "cell-660158bd1186440d",
     "locked": true,
     "schema_version": 3,
     "solution": false,
     "task": false
    }
   },
   "source": [
    "### Part 3 - Calculating the dihedral angles with Python (25 Points)\n",
    "\n",
    "In this part, you are going to use Python to repeat Part 2 for all residues in the file. You will start by creating the necessary functions, and then use those functions to calculate the dihedral angles for each residue."
   ]
  },
  {
   "cell_type": "code",
   "execution_count": null,
   "metadata": {
    "deletable": false,
    "id": "947fcd9b",
    "nbgrader": {
     "cell_type": "code",
     "checksum": "375fd099e7b9891aea90f7510f5eb517",
     "grade": false,
     "grade_id": "cell-8936c02d86269c0b",
     "locked": false,
     "schema_version": 3,
     "solution": true,
     "task": false
    }
   },
   "outputs": [],
   "source": [
    "def calculate_phi(aa1, aa2):\n",
    "    \"\"\" Given two consecutive amino acids, calculate the phi angle for the second one\n",
    "        Return the angle in degrees \"\"\"\n",
    "    # YOUR CODE HERE\n",
    "\n",
    "    c_1 = np.array(...)\n",
    "    n_2 = ...\n",
    "    ca_2 = ...\n",
    "    c_2 = ...\n",
    "    \n",
    "    l_1 = ...\n",
    "    l_2 = ...\n",
    "    l_3 = ...\n",
    "    \n",
    "    n_1 = np.cross(...)\n",
    "    n_2 = ...\n",
    "    \n",
    "    u = ... / ...(...)\n",
    "    v = ...\n",
    "    \n",
    "    u_dot_v = np.dot(...)\n",
    "    radians = ...(...)\n",
    "    \n",
    "    sign = np.sign(...)\n",
    "    phi = np.degrees(...)\n",
    "    \n",
    "    if sign != np.sign(phi):\n",
    "        phi = -1 * phi\n",
    "\n",
    "    return phi"
   ]
  },
  {
   "cell_type": "code",
   "execution_count": null,
   "metadata": {
    "deletable": false,
    "editable": false,
    "id": "379d4cb5",
    "nbgrader": {
     "cell_type": "code",
     "checksum": "2d981b18838ff99268d3aabe7a4dcfdb",
     "grade": true,
     "grade_id": "cell-0993be096f46ffd3",
     "locked": true,
     "points": 10,
     "schema_version": 3,
     "solution": false,
     "task": false
    }
   },
   "outputs": [],
   "source": [
    "test_protein = read_pdb_file('hw2.pdb')\n",
    "assert np.isclose(calculate_phi(test_protein[1], test_protein[2]), -92.9674)"
   ]
  },
  {
   "cell_type": "code",
   "execution_count": null,
   "metadata": {
    "deletable": false,
    "id": "eab8dd58",
    "nbgrader": {
     "cell_type": "code",
     "checksum": "2a68f6f81d056d2e5e576ed3799e6643",
     "grade": false,
     "grade_id": "cell-0442d1cebbe54d0b",
     "locked": false,
     "schema_version": 3,
     "solution": true,
     "task": false
    }
   },
   "outputs": [],
   "source": [
    "def calculate_psi(aa1, aa2):\n",
    "    \"\"\" Given two consecutive amino acids, calculate the psi angle for the first one \n",
    "        Return the angle in degrees \"\"\"\n",
    "    # YOUR CODE HERE\n",
    "\n",
    "    return psi"
   ]
  },
  {
   "cell_type": "code",
   "execution_count": null,
   "metadata": {
    "deletable": false,
    "editable": false,
    "id": "0c838b8b",
    "nbgrader": {
     "cell_type": "code",
     "checksum": "90b7c0ed92a1385aca2b2f3ffee39147",
     "grade": true,
     "grade_id": "cell-22eb6d61f5b5c4f2",
     "locked": true,
     "points": 10,
     "schema_version": 3,
     "solution": false,
     "task": false
    }
   },
   "outputs": [],
   "source": [
    "test_protein = read_pdb_file('hw2.pdb')\n",
    "assert np.isclose(calculate_psi(test_protein[1], test_protein[2]), 138.2198)"
   ]
  },
  {
   "cell_type": "code",
   "execution_count": null,
   "metadata": {
    "deletable": false,
    "id": "457959f2",
    "nbgrader": {
     "cell_type": "code",
     "checksum": "2d9702e2fa0e05b5114cbfd64a823eed",
     "grade": false,
     "grade_id": "cell-521cd0bd2131e12d",
     "locked": false,
     "schema_version": 3,
     "solution": true,
     "task": false
    }
   },
   "outputs": [],
   "source": [
    "def calculate_omega(aa1, aa2):\n",
    "    \"\"\" Given two consecutive amino acids, calculate the omega angle between them \n",
    "        Return the angle in degrees \"\"\"\n",
    "    # YOUR CODE HERE\n",
    "\n",
    "    return omega"
   ]
  },
  {
   "cell_type": "code",
   "execution_count": null,
   "metadata": {
    "deletable": false,
    "editable": false,
    "id": "b94bb7d5",
    "nbgrader": {
     "cell_type": "code",
     "checksum": "2e5a3054f7f5ae30293ea14532e20db4",
     "grade": true,
     "grade_id": "cell-adbe0baaea227577",
     "locked": true,
     "points": 10,
     "schema_version": 3,
     "solution": false,
     "task": false
    }
   },
   "outputs": [],
   "source": [
    "test_protein = read_pdb_file('hw2.pdb')\n",
    "assert np.isclose(calculate_omega(test_protein[1], test_protein[2]), 176.6244)"
   ]
  },
  {
   "cell_type": "code",
   "execution_count": null,
   "metadata": {
    "deletable": false,
    "id": "cb657df0",
    "nbgrader": {
     "cell_type": "code",
     "checksum": "aad1e6fe6c5dc7411ecf08d9ca1f2db5",
     "grade": false,
     "grade_id": "cell-bd5bd89d6bf6fe4c",
     "locked": false,
     "schema_version": 3,
     "solution": true,
     "task": false
    }
   },
   "outputs": [],
   "source": [
    "def calculate_all(protein_dict):\n",
    "    \"\"\" For a given amino acid sequence, calculate all possible phi, psi, omega, theta angles and bond distances,\n",
    "        vectors, using the functions defined before \"\"\"\n",
    "    # YOUR CODE HERE\n",
    "\n",
    "    return phi_list, psi_list, omega_list"
   ]
  },
  {
   "cell_type": "code",
   "execution_count": null,
   "metadata": {
    "deletable": false,
    "editable": false,
    "id": "f0a8d1be",
    "nbgrader": {
     "cell_type": "code",
     "checksum": "06383afc33ded775659fb8d467c163c5",
     "grade": true,
     "grade_id": "cell-eeb0fe95d96a90b8",
     "locked": true,
     "points": 5,
     "schema_version": 3,
     "solution": false,
     "task": false
    }
   },
   "outputs": [],
   "source": [
    "test_protein = read_pdb_file('hw2.pdb')\n",
    "assert np.isclose(calculate_all(test_protein)[0][5], -91.1347)\n",
    "assert calculate_all(test_protein)[1][-1] == None\n",
    "assert (np.isclose(calculate_all(test_protein)[2][3], -177.8886)) or (np.isclose(calculate_all(test_protein)[2][3], 2.1114))"
   ]
  },
  {
   "cell_type": "markdown",
   "metadata": {
    "deletable": false,
    "editable": false,
    "id": "8b35226e",
    "nbgrader": {
     "cell_type": "markdown",
     "checksum": "7d8e9155539145e3c4661a8ed1ed4c98",
     "grade": false,
     "grade_id": "cell-0d83979f85602b2e",
     "locked": true,
     "schema_version": 3,
     "solution": false,
     "task": false
    }
   },
   "source": [
    "### Part 4 - Transformation Matrix (25 Points)"
   ]
  },
  {
   "cell_type": "code",
   "execution_count": null,
   "metadata": {
    "id": "63685216"
   },
   "outputs": [],
   "source": [
    "def tranformation_matrix(phi, theta):\n",
    "    pi = np.degrees(np.pi)\n",
    "    t = np.array([[np.cos(theta), np.sin(theta), 0],\n",
    "                  [-np.sin(theta) * np.cos(phi), np.cos(theta) * np.cos(phi), -np.sin(phi)],\n",
    "                  [-np.sin(theta) * np.sin(phi), np.cos(theta) * np.sin(phi), np.cos(phi)]])\n",
    "\n",
    "    return t"
   ]
  },
  {
   "cell_type": "code",
   "execution_count": null,
   "metadata": {
    "deletable": false,
    "id": "75ef50b7",
    "nbgrader": {
     "cell_type": "code",
     "checksum": "7f196daca8696ce30997c7ebaeb3149b",
     "grade": false,
     "grade_id": "cell-e798e7b0c36b05d7",
     "locked": false,
     "schema_version": 3,
     "solution": true,
     "task": false
    }
   },
   "outputs": [],
   "source": [
    "def calculate_bond():\n",
    "    \"\"\" Given two consecutive amino acids, calculate the bond length between their CA atoms \"\"\"\n",
    "    # YOUR CODE HERE\n",
    "\n",
    "    return bond_dist, bond_vector"
   ]
  },
  {
   "cell_type": "markdown",
   "metadata": {
    "id": "2t1VEA_HWb01"
   },
   "source": [
    "Apply back transformation for all possible atoms in the given pdb file, using the functions you defined previously (transformation_matrix, calculate_phi, etc.)"
   ]
  },
  {
   "cell_type": "code",
   "execution_count": null,
   "metadata": {
    "deletable": false,
    "id": "5979b815",
    "nbgrader": {
     "cell_type": "code",
     "checksum": "d8b95c1b8dc2dc23502e13bab0a3d117",
     "grade": false,
     "grade_id": "cell-fb5adb1fd997c346",
     "locked": false,
     "schema_version": 3,
     "solution": true,
     "task": false
    }
   },
   "outputs": [],
   "source": [
    "transformed_list = []\n",
    "# YOUR CODE HERE\n",
    "\n"
   ]
  },
  {
   "cell_type": "markdown",
   "metadata": {
    "deletable": false,
    "editable": false,
    "id": "f51bcfd6",
    "nbgrader": {
     "cell_type": "markdown",
     "checksum": "ed43044e16e086e5a5bab3a063767bba",
     "grade": false,
     "grade_id": "cell-45ec4e5542ebacbd",
     "locked": true,
     "schema_version": 3,
     "solution": false,
     "task": false
    }
   },
   "source": [
    "### Part 5 - Ramachandran Map (15 Points)\n",
    "\n",
    "Draw the ramachandran map for the peptide. You should use matplotlib for this part. An introductory tutorial exists here: https://matplotlib.org/stable/tutorials/introductory/pyplot.html. For the most basic case, you may want to check plt.scatter() and plt.xlabel(), plt.ylabel().\n",
    "\n",
    "Even this short tutorial is too detailed for our purposes here, first three cells in this documentation should be enough for this task. But, of course you can improve your plot with additional properties (coloring, size, gridlines, etc.) if you wish to. \n",
    "\n",
    "Do not forget to put axis labels on your plot!"
   ]
  },
  {
   "cell_type": "code",
   "execution_count": null,
   "metadata": {
    "deletable": false,
    "id": "ea2ba784",
    "nbgrader": {
     "cell_type": "code",
     "checksum": "bffc6435d764dd0af9c99fcd20840af8",
     "grade": false,
     "grade_id": "cell-cb4a703750add221",
     "locked": false,
     "schema_version": 3,
     "solution": true,
     "task": false
    }
   },
   "outputs": [],
   "source": [
    "protein_structure = read_pdb_file('hw2.pdb')\n",
    "phi_list, psi_list, _ = calculate_all(protein_structure)\n",
    "\n",
    "# YOUR CODE HERE\n"
   ]
  },
  {
   "cell_type": "markdown",
   "metadata": {
    "deletable": false,
    "editable": false,
    "id": "d49542e9",
    "nbgrader": {
     "cell_type": "markdown",
     "checksum": "32808989d011ba04b070d768ad422367",
     "grade": false,
     "grade_id": "cell-8d463aff39ecf33e",
     "locked": true,
     "schema_version": 3,
     "solution": false,
     "task": false
    }
   },
   "source": [
    "Question: According to you Ramachandran map, is the peptide you are given an alpha-helix, beta-sheet, or loop region? Write your answer in the cell below."
   ]
  },
  {
   "cell_type": "markdown",
   "metadata": {
    "deletable": false,
    "id": "43fd0b5f",
    "nbgrader": {
     "cell_type": "markdown",
     "checksum": "ca5596f6c1fc21348324e817e945f4f3",
     "grade": true,
     "grade_id": "cell-e82ef17d15f05680",
     "locked": false,
     "points": 5,
     "schema_version": 3,
     "solution": true,
     "task": false
    }
   },
   "source": [
    "YOUR ANSWER HERE"
   ]
  }
 ],
 "metadata": {
  "colab": {
   "collapsed_sections": [],
   "name": "CHBI422_522_Spring2022_Homework2_student.ipynb",
   "provenance": []
  },
  "kernelspec": {
   "display_name": "Python 3",
   "language": "python",
   "name": "python3"
  },
  "language_info": {
   "codemirror_mode": {
    "name": "ipython",
    "version": 3
   },
   "file_extension": ".py",
   "mimetype": "text/x-python",
   "name": "python",
   "nbconvert_exporter": "python",
   "pygments_lexer": "ipython3",
   "version": "3.8.5"
  }
 },
 "nbformat": 4,
 "nbformat_minor": 5
}
