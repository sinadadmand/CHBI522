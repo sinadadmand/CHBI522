{
  "nbformat": 4,
  "nbformat_minor": 0,
  "metadata": {
    "colab": {
      "name": "CHBI422_522_Spring2022_Homework3",
      "provenance": []
    },
    "kernelspec": {
      "name": "python3",
      "display_name": "Python 3"
    },
    "language_info": {
      "name": "python"
    }
  },
  "cells": [
    {
      "cell_type": "markdown",
      "source": [
        "<h2 style=\"text-align: center; line-height: 0px;\">CHBI 422 / 522</h2>\n",
        "<h3 style=\"text-align: center; line-height: 0px;\">Spring 2022</h3>\n",
        "<h3 style=\"text-align: center; line-height: 0px;\">Homework 3</h3>\n",
        "<h4 style=\"text-align: center; line-height: 0px;\">Due date: April 11, 2022 - 23:59</h4>\n",
        "\n",
        "<hr>\n",
        "\n",
        "To complete these homework, you will use Google Colab. If you experience any problems please get in touch with the TA: zabali16@ku.edu.tr\n",
        "\n",
        "**Submission** <br>\n",
        "After you are done and passed all the test, please submit this notebook to Blackboard. If you are not getting full points from a test, you may be failing some hidden tests. Think about the edge cases (your code might be working in general, but failing for some special cases). Please do not forget to **save** your work before you submit, and **check** whether you are in the final version."
      ],
      "metadata": {
        "id": "MMmjJYj3iv6n"
      }
    },
    {
      "cell_type": "markdown",
      "source": [
        "**Instructions**<br>\n",
        "\n",
        "$\\color{purple}{\\small{\\text{Visit the RCSB PDB website (https://www.rcsb.org/).\n",
        "Use RCSB PDB advanced search to find a protein that has the following properties:}}}$\n",
        "\n",
        "* It should be an enzyme.\n",
        "* It should have only a single chain.\n",
        "* It should have a residue count between 40 and 90.\n",
        "* The experimental method should be X-ray diffraction.\n",
        "* The protein should have at least four secondary structures."
      ],
      "metadata": {
        "id": "8OcH79qCi8LS"
      }
    },
    {
      "cell_type": "markdown",
      "source": [
        "\n",
        "\n",
        "---\n",
        "\n"
      ],
      "metadata": {
        "id": "sMVuZapxsZ5T"
      }
    },
    {
      "cell_type": "markdown",
      "source": [
        "$\\color{red}{\\text{Essay Part (Total: 20 points)}}$\n"
      ],
      "metadata": {
        "id": "GCfFmZqMjO3K"
      }
    },
    {
      "cell_type": "markdown",
      "source": [
        "$\\color{purple}{\\small{\\text{▶ Which PDB ID did you choose? Put the link for your selected protein in the below text box. (3 points)}}}$"
      ],
      "metadata": {
        "id": "bWvmjn7AjXhU"
      }
    },
    {
      "cell_type": "code",
      "source": [
        ""
      ],
      "metadata": {
        "id": "JYe3GyxOppx6"
      },
      "execution_count": null,
      "outputs": []
    },
    {
      "cell_type": "markdown",
      "source": [
        ""
      ],
      "metadata": {
        "id": "D-ZVbCjyjlVY"
      }
    },
    {
      "cell_type": "markdown",
      "source": [
        "$\\color{purple}{\\small{\\text{▶ Find the principal article of the paper. What is the function of the protein as you understand from the paper? What is the main emphasis of the paper, with at most three sentences? (3 points)}}}$"
      ],
      "metadata": {
        "id": "Mofohz2Kjlqw"
      }
    },
    {
      "cell_type": "markdown",
      "source": [
        ""
      ],
      "metadata": {
        "id": "N5Imlugpjobd"
      }
    },
    {
      "cell_type": "markdown",
      "source": [
        "$\\color{purple}{\\small{\\text{▶ What is the EC number of your enzyme, what does it tell you? (3 points)}}}$\n"
      ],
      "metadata": {
        "id": "U4nVM7l9joxg"
      }
    },
    {
      "cell_type": "markdown",
      "source": [
        ""
      ],
      "metadata": {
        "id": "vX37IuPXj3fU"
      }
    },
    {
      "cell_type": "markdown",
      "source": [
        "$\\color{purple}{\\small{\\text{▶ How many helices and strands exist in the PDB file? (3 points)}}}$\n"
      ],
      "metadata": {
        "id": "HV2w18vIj4Rd"
      }
    },
    {
      "cell_type": "markdown",
      "source": [
        ""
      ],
      "metadata": {
        "id": "MY5ovivaj7Q0"
      }
    },
    {
      "cell_type": "markdown",
      "source": [
        "$\\color{purple}{\\small{\\text{▶ Which year was the structure deposited? (3 points)}}}$\n"
      ],
      "metadata": {
        "id": "gdUNUEMVj7hk"
      }
    },
    {
      "cell_type": "markdown",
      "source": [
        ""
      ],
      "metadata": {
        "id": "z75QCseEkYjV"
      }
    },
    {
      "cell_type": "markdown",
      "source": [
        "\n",
        "\n",
        "---\n",
        "\n"
      ],
      "metadata": {
        "id": "tRuK2Sq3sXs9"
      }
    },
    {
      "cell_type": "markdown",
      "source": [
        "$\\color{red}{\\text{Calculations Part - A (Total: 40 points)}}$\n",
        "\n",
        "\n",
        "\n"
      ],
      "metadata": {
        "id": "U_1AySfJkOjf"
      }
    },
    {
      "cell_type": "markdown",
      "source": [
        "\n",
        "$\\color{purple}{\\small{\\text{▶ Read in all coordinates and residue types. You can use your code from Homework 2, or write a new one. (You can add new code cells, as you need, below)}}}$\n"
      ],
      "metadata": {
        "id": "1uQenB9LkbAB"
      }
    },
    {
      "cell_type": "code",
      "source": [
        ""
      ],
      "metadata": {
        "id": "A7nFriKGkgVB"
      },
      "execution_count": null,
      "outputs": []
    },
    {
      "cell_type": "markdown",
      "source": [
        "$\\color{purple}{\\small{\\text{▶ Calculate the amino acid composition of the protein (0,5% Ala, etc.)}}}$\n"
      ],
      "metadata": {
        "id": "OnGTLwI2kndY"
      }
    },
    {
      "cell_type": "code",
      "source": [
        ""
      ],
      "metadata": {
        "id": "phaqzm4jkog3"
      },
      "execution_count": null,
      "outputs": []
    },
    {
      "cell_type": "markdown",
      "source": [
        "$\\color{purple}{\\small{\\text{▶ Using the mole fractions, what is the structural class of your protein.}}}$\n",
        "$\\color{purple}{\\scriptsize {\\text{Hint: What are the highest probabilities that these amino acids will belong to, i.e. helix/strand or both.}}}$\n"
      ],
      "metadata": {
        "id": "pyeLSptmk8s1"
      }
    },
    {
      "cell_type": "markdown",
      "source": [
        ""
      ],
      "metadata": {
        "id": "bIBkj4COlEbZ"
      }
    },
    {
      "cell_type": "markdown",
      "source": [
        "$\\color{purple}{\\small{\\text{▶ Evaluate all the bond lengths and torsional angles. (i.e., phi, psi, omega)}}}$\n"
      ],
      "metadata": {
        "id": "lB1-z9glkorb"
      }
    },
    {
      "cell_type": "code",
      "source": [
        ""
      ],
      "metadata": {
        "id": "MiAORqvykpUp"
      },
      "execution_count": null,
      "outputs": []
    },
    {
      "cell_type": "markdown",
      "source": [
        "$\\color{purple}{\\small{\\text{▶ Draw the Ramachandran plot of the protein.}}}$\n"
      ],
      "metadata": {
        "id": "uPIwptHekphi"
      }
    },
    {
      "cell_type": "code",
      "source": [
        ""
      ],
      "metadata": {
        "id": "UlB1WjJWkp36"
      },
      "execution_count": null,
      "outputs": []
    },
    {
      "cell_type": "markdown",
      "source": [
        "$\\color{purple}{\\small{\\text{▶ Draw a figure with only alpha carbons displayed using chimera or VMD or your favorite tool. Label the secondary structures and active site. Insert your figure in the cell below.}}}$\n"
      ],
      "metadata": {
        "id": "-hNZRXdxkqCu"
      }
    },
    {
      "cell_type": "markdown",
      "source": [
        ""
      ],
      "metadata": {
        "id": "TMdh-BgVk5sp"
      }
    },
    {
      "cell_type": "markdown",
      "source": [
        "\n",
        "\n",
        "---\n",
        "\n"
      ],
      "metadata": {
        "id": "0--_cBXrsbYh"
      }
    },
    {
      "cell_type": "markdown",
      "source": [
        "$\\color{red}{\\text{Calculations Part - B (Total: 40 points)}}$"
      ],
      "metadata": {
        "id": "5VTj9K7MlXTW"
      }
    },
    {
      "cell_type": "markdown",
      "source": [
        "$\\color{purple}{\\small{\\text{▶ Calculate the coordination number of each residue, draw residue versus coordination number for the protein.}}}$\n",
        "\n",
        "$\\color{purple}{\\small{\\text{If i and j are two amino acids, calculate a contact if and only if } abs(i - j) \\geq 4.}}$"
      ],
      "metadata": {
        "id": "5IeJLmmclbio"
      }
    },
    {
      "cell_type": "code",
      "source": [
        ""
      ],
      "metadata": {
        "id": "5oZBOXDAlthi"
      },
      "execution_count": null,
      "outputs": []
    },
    {
      "cell_type": "markdown",
      "source": [
        "$\\color{purple}{\\small{\\text{▶ Draw the contact map of the protein, indicate which secondary element correspond wherein the map. Which secondary structures contact, shown in the map.}}}$\n",
        "\n"
      ],
      "metadata": {
        "id": "yCTNNpZllexA"
      }
    },
    {
      "cell_type": "markdown",
      "source": [
        ""
      ],
      "metadata": {
        "id": "tmrLsSisr7q1"
      }
    },
    {
      "cell_type": "markdown",
      "source": [
        "$\\color{purple}{\\small{\\text{▶ Find the accessible surface areas of the residues, you might use any of the following programs:}}}$ <br>\n",
        "\n",
        "\n",
        "* $\\color{purple}{\\small{\\text{FREESASA}}}$ (https://freesasa.github.io/)\n",
        "* $\\color{purple}{\\small{\\text{GETAREA}}}$ (http://curie.utmb.edu/getarea.html)\n",
        "* $\\color{purple}{\\small{\\text{MSMS}}}$ (http://mgltools.scripps.edu/packages/MSMS/)\n",
        "* $\\color{purple}{\\small{\\text{Any other program of your choice}}}$\n"
      ],
      "metadata": {
        "id": "WWeoeoXelfVf"
      }
    },
    {
      "cell_type": "markdown",
      "source": [
        ""
      ],
      "metadata": {
        "id": "r3lWxdZfl5GS"
      }
    },
    {
      "cell_type": "markdown",
      "source": [
        "$\\color{purple}{\\small{\\text{▶ Use the following server}}}$ http://expasy.org/tools/protscale.html $\\color{purple}{\\small{\\text{to find the hydrophobicity scale using}}}$ [Kyte & Doolittle](https://web.expasy.org/protscale/pscale/Hphob.Doolittle.html) $\\color{purple}{\\small{\\text{parameters}}}$."
      ],
      "metadata": {
        "id": "As4g7b5ilgFY"
      }
    },
    {
      "cell_type": "markdown",
      "source": [
        ""
      ],
      "metadata": {
        "id": "APKxICFCmBPh"
      }
    },
    {
      "cell_type": "markdown",
      "source": [
        "$\\color{purple}{\\small{\\text{▶ Draw the }}}$\n",
        "\n",
        "\n",
        "$\\color{purple}{\\small{\\text{1. residue versus coordination number}}}$ <br>\n",
        "$\\color{purple}{\\small{\\text{2. hydrophobicity versus accessible surface area graphs}}}$\n",
        "\n",
        "$\\color{purple}{\\small{\\text{and see if there is a correlation between them.}}}$\n",
        "\n"
      ],
      "metadata": {
        "id": "EVdVNO_glgYI"
      }
    },
    {
      "cell_type": "markdown",
      "source": [
        ""
      ],
      "metadata": {
        "id": "UXWXrek0mLuZ"
      }
    },
    {
      "cell_type": "markdown",
      "source": [
        "$\\color{purple}{\\small{\\text{▶ Find the SCOP domain of this protein. We will cover SCOP after folding lectures}}}$\n"
      ],
      "metadata": {
        "id": "fSPiLrmAlgum"
      }
    },
    {
      "cell_type": "markdown",
      "source": [
        ""
      ],
      "metadata": {
        "id": "keBfHLGbmYKy"
      }
    },
    {
      "cell_type": "markdown",
      "source": [
        "\n",
        "\n",
        "---\n",
        "\n"
      ],
      "metadata": {
        "id": "Dtcx2Kjhsd_d"
      }
    },
    {
      "cell_type": "markdown",
      "source": [
        "**Make sure that you saved your work, download this notebook as .ipynb and upload to Blackboard for submission**"
      ],
      "metadata": {
        "id": "uN-O4XvWmOZC"
      }
    }
  ]
}