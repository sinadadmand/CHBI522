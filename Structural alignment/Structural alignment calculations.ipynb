{
 "cells": [
  {
   "cell_type": "code",
   "execution_count": 1,
   "metadata": {
    "colab": {
     "base_uri": "https://localhost:8080/"
    },
    "id": "5m1lKYqak-hg",
    "outputId": "b6e1f33d-43e8-465d-c081-099ebc5584fc"
   },
   "outputs": [
    {
     "name": "stdout",
     "output_type": "stream",
     "text": [
      "Collecting rmsd\n",
      "  Downloading rmsd-1.4-py3-none-any.whl (16 kB)\n",
      "Requirement already satisfied: numpy in c:\\users\\sina-pc\\anaconda3\\lib\\site-packages (from rmsd) (1.19.2)\n",
      "Requirement already satisfied: scipy in c:\\users\\sina-pc\\anaconda3\\lib\\site-packages (from rmsd) (1.5.2)\n",
      "Installing collected packages: rmsd\n",
      "Successfully installed rmsd-1.4\n",
      "Collecting wget\n",
      "  Downloading wget-3.2.zip (10 kB)\n",
      "Building wheels for collected packages: wget\n",
      "  Building wheel for wget (setup.py): started\n",
      "  Building wheel for wget (setup.py): finished with status 'done'\n",
      "  Created wheel for wget: filename=wget-3.2-py3-none-any.whl size=9686 sha256=1ac4a47d565a37a90e553445d295ffb37400ac249e2e5417efa79e7a0bc7cc40\n",
      "  Stored in directory: c:\\users\\sina-pc\\appdata\\local\\pip\\cache\\wheels\\bd\\a8\\c3\\3cf2c14a1837a4e04bd98631724e81f33f462d86a1d895fae0\n",
      "Successfully built wget\n",
      "Installing collected packages: wget\n",
      "Successfully installed wget-3.2\n"
     ]
    }
   ],
   "source": [
    "!pip install rmsd\n",
    "!pip install wget\n",
    "import numpy as np\n",
    "import rmsd\n",
    "import wget"
   ]
  },
  {
   "cell_type": "code",
   "execution_count": 2,
   "metadata": {
    "colab": {
     "base_uri": "https://localhost:8080/"
    },
    "id": "t062gvFXJQdq",
    "outputId": "6eeb4aff-99ab-4e6a-9129-5f80d1c4f4d6"
   },
   "outputs": [
    {
     "name": "stdout",
     "output_type": "stream",
     "text": [
      "-1 / unknown"
     ]
    }
   ],
   "source": [
    "pdbIDs=['2JF3.pdb', '2QIV.pdb', '2LAO.pdb', '1PDA.pdb', '1A11.pdb']\n",
    "\n",
    "for i in range(len(pdbIDs)):\n",
    "    url = \"https://files.rcsb.org/download/\" + pdbIDs[i]\n",
    "    wget.download(url)"
   ]
  },
  {
   "cell_type": "code",
   "execution_count": 6,
   "metadata": {
    "id": "wh25g531It6U"
   },
   "outputs": [],
   "source": [
    "def read_pdb(file_path):\n",
    "    rows = [] # First element is dummy variable will be removed.\n",
    "    with open(file_path, \"r\") as file:\n",
    "        linen= 1\n",
    "        for line in file:\n",
    "            row = line.strip().split()\n",
    "            if linen > 1:\n",
    "                if row[0] == \"ATOM\" and row[2] == \"CA\" and row[5] != rows[-1][5] and row[5].isdigit():\n",
    "                    rows.append(row)\n",
    "            else:\n",
    "                if row[0] == \"ATOM\" and row[2] == \"CA\" and row[5].isdigit():\n",
    "                    rows.append(row)\n",
    "                    linen+=1\n",
    "\n",
    "        for i,row in enumerate(rows):\n",
    "            rows[i] = np.array(row[6:9]).astype(float)\n",
    "    return rows\n"
   ]
  },
  {
   "cell_type": "code",
   "execution_count": 7,
   "metadata": {
    "id": "FRX36-FtvbuU"
   },
   "outputs": [],
   "source": [
    "def calculate_rmsd(A, B):\n",
    "  return np.sqrt(((np.array(A) - np.array(B))**2).sum() / len(A)) # Calculation of RMSD from Mehmet Gonen's codes DASC521"
   ]
  },
  {
   "cell_type": "code",
   "execution_count": 8,
   "metadata": {
    "colab": {
     "base_uri": "https://localhost:8080/"
    },
    "id": "y8sTEatDIt9L",
    "outputId": "829e48ae-6ae7-4512-80ad-223cef6478ae"
   },
   "outputs": [
    {
     "name": "stdout",
     "output_type": "stream",
     "text": [
      "RMSD: 0.2758513169989861\n"
     ]
    }
   ],
   "source": [
    "mata = read_pdb(pdbIDs[0])\n",
    "matb = read_pdb(pdbIDs[1])\n",
    "\n",
    "mata = mata- np.mean(mata, axis = 0) # move centers to the origin\n",
    "matb = matb- np.mean(matb, axis = 0) # move centers to the origin\n",
    "\n",
    "U = rmsd.kabsch(mata, matb) # super imposition function\n",
    "mata = np.dot(mata, U) # super impose first prot on the second\n",
    "\n",
    "print(f\"RMSD: {calculate_rmsd(mata, matb)}\")\n"
   ]
  },
  {
   "cell_type": "code",
   "execution_count": 9,
   "metadata": {
    "colab": {
     "base_uri": "https://localhost:8080/"
    },
    "id": "Aq009h1QujWG",
    "outputId": "d00ddf75-7f46-4683-c773-696d53b41444"
   },
   "outputs": [
    {
     "name": "stdout",
     "output_type": "stream",
     "text": [
      "RMSD: 15.526340371058206\n"
     ]
    }
   ],
   "source": [
    "\n",
    "mata = read_pdb(pdbIDs[2])[92:187]\n",
    "matb = read_pdb(pdbIDs[3])[102:197]\n",
    "\n",
    "mata -= np.mean(mata, axis = 0) # move centers to the origin\n",
    "matb -= np.mean(matb, axis = 0) # move centers to the origin\n",
    "\n",
    "U = rmsd.kabsch(mata, matb) # suoer imposition function\n",
    "mata = np.dot(mata, U) # super impose first prot on the second\n",
    "\n",
    "print(f\"RMSD: {calculate_rmsd(mata, matb)}\")\n"
   ]
  },
  {
   "cell_type": "code",
   "execution_count": 10,
   "metadata": {
    "colab": {
     "base_uri": "https://localhost:8080/"
    },
    "id": "bVFi4OAR7hxG",
    "outputId": "670d30dc-1326-4c5b-d691-465b476011db"
   },
   "outputs": [
    {
     "name": "stdout",
     "output_type": "stream",
     "text": [
      "[13.094372818454994, 13.699217132398747, 14.362976678946728, 15.076765622505418, 15.830481867131258, 16.556693577014048, 17.198623500298897, 17.803871631670095, 18.325512767755132, 18.746651770639474, 19.075891113718132, 19.313835231985454, 19.470913425458466, 19.59509976123791, 19.687540008113054, 19.71752706106357, 19.748231013293516, 19.82922578442605, 19.932355094196335, 20.011908969784795, 20.173290354975776, 20.408214606263986, 20.60517467000081, 20.794670383496285, 21.020004238663592, 21.25090335238693, 21.412869560098613, 21.539037727128704, 21.653125674929473, 21.68967912869312, 21.638986709014244, 21.558792071432155, 21.516491186883485, 21.453166684215493, 21.388597863347933, 21.340285529925378, 21.3456237253631, 21.342954125488355, 21.313159922183605, 21.286394219318467, 21.277013638626386, 21.253600667965316, 21.218195939559894, 21.19106675909008, 21.122590329130386, 21.007404857863147, 20.910400963341655, 20.85127913077661, 20.770555642938987, 20.687486709984288, 20.699832037074714, 20.762194572442713, 20.827307661878528, 20.941333547857383, 21.09885379287039, 21.309597600398938, 21.543338610572352, 21.789990445063236]\n",
      "\n",
      "Global Alignment RMSD is: 13.094372818454994\n"
     ]
    }
   ],
   "source": [
    "mata = read_pdb(pdbIDs[2])\n",
    "matb = read_pdb(pdbIDs[3])\n",
    "RMSDs = [] # saving RMSD for each iteration\n",
    "for i in range(abs(len(mata)-len(matb))):\n",
    "    matbc = matb[i:(len(mata)+i)].copy()\n",
    "\n",
    "    mata -= np.mean(mata, axis = 0)\n",
    "    matbc -= np.mean(matbc, axis = 0)\n",
    "\n",
    "    U = rmsd.kabsch(mata, matbc)\n",
    "    mata = np.dot(mata, U)\n",
    "    RMSDs.append(calculate_rmsd(mata, matbc))\n",
    "    \n",
    "  \n",
    "print(RMSDs)   \n",
    "\n",
    "print(\"\\nGlobal Alignment RMSD is:\", min(RMSDs))"
   ]
  },
  {
   "cell_type": "code",
   "execution_count": 12,
   "metadata": {
    "colab": {
     "base_uri": "https://localhost:8080/"
    },
    "id": "fIHCVbzgbDk9",
    "outputId": "f657ffc8-f609-4d5f-bf72-4e1201000b3e"
   },
   "outputs": [
    {
     "name": "stdout",
     "output_type": "stream",
     "text": [
      "RMSD between 1 model and 2 model 1.3509598986729614\n",
      "RMSD between 1 model and 3 model 1.2695622138199805\n",
      "RMSD between 1 model and 4 model 2.0038599950078044\n",
      "RMSD between 1 model and 5 model 1.5726327036221934\n",
      "RMSD between 1 model and 6 model 1.2566548110343225\n",
      "RMSD between 1 model and 7 model 1.6432313305777357\n",
      "RMSD between 1 model and 8 model 1.7644803780076173\n",
      "RMSD between 1 model and 9 model 2.0669773859669256\n",
      "RMSD between 1 model and 10 model 0.9248669123874687\n",
      "RMSD between 2 model and 3 model 1.1656728704980588\n",
      "RMSD between 2 model and 4 model 1.8436930218669043\n",
      "RMSD between 2 model and 5 model 1.067448453139926\n",
      "RMSD between 2 model and 6 model 2.0000532754503957\n",
      "RMSD between 2 model and 7 model 1.5773946718512994\n",
      "RMSD between 2 model and 8 model 1.7493154132555584\n",
      "RMSD between 2 model and 9 model 2.9174105784137496\n",
      "RMSD between 2 model and 10 model 1.6250498630069006\n",
      "RMSD between 3 model and 4 model 1.974493794871596\n",
      "RMSD between 3 model and 5 model 0.8457905038410172\n",
      "RMSD between 3 model and 6 model 1.6174265561527306\n",
      "RMSD between 3 model and 7 model 1.5138592153935049\n",
      "RMSD between 3 model and 8 model 1.4302523168232142\n",
      "RMSD between 3 model and 9 model 2.966446148714671\n",
      "RMSD between 3 model and 10 model 1.1322369399688426\n",
      "RMSD between 4 model and 5 model 1.4683801318645495\n",
      "RMSD between 4 model and 6 model 2.170093376879209\n",
      "RMSD between 4 model and 7 model 1.1335643386381686\n",
      "RMSD between 4 model and 8 model 1.1452183219508636\n",
      "RMSD between 4 model and 9 model 1.869702664267428\n",
      "RMSD between 4 model and 10 model 1.7339921435957335\n",
      "RMSD between 5 model and 6 model 1.9549313802720658\n",
      "RMSD between 5 model and 7 model 1.3102812518282967\n",
      "RMSD between 5 model and 8 model 1.1954652972922595\n",
      "RMSD between 5 model and 9 model 2.7711968872330885\n",
      "RMSD between 5 model and 10 model 1.2855710895287344\n",
      "RMSD between 6 model and 7 model 1.4743690657462052\n",
      "RMSD between 6 model and 8 model 1.5207810206374006\n",
      "RMSD between 6 model and 9 model 2.052514440664805\n",
      "RMSD between 6 model and 10 model 1.1936949445216798\n",
      "RMSD between 7 model and 8 model 0.7363203080800429\n",
      "RMSD between 7 model and 9 model 2.1005890875701265\n",
      "RMSD between 7 model and 10 model 1.325471824566175\n",
      "RMSD between 8 model and 9 model 2.225974837970038\n",
      "RMSD between 8 model and 10 model 1.2976454003963604\n",
      "RMSD between 9 model and 10 model 2.008284117188247\n"
     ]
    }
   ],
   "source": [
    "mat = read_pdb(pdbIDs[4])\n",
    "mat = np.array(mat).reshape((10,25,3)) # reshape the pdb to contain 10 models in a 3d matrix\n",
    "for i in range(mat.shape[0]):\n",
    "  A = mat[i]\n",
    "  for j in range(i+1,mat.shape[0]):\n",
    "    B = mat[j]\n",
    "    A -= np.mean(A, axis = 0)\n",
    "    B -= np.mean(B, axis = 0)\n",
    "\n",
    "    U = rmsd.kabsch(A, B)\n",
    "    A = np.dot(A, U)\n",
    "    print(f\"RMSD between {i+1} model and {j+1} model {calculate_rmsd(A, B)}\")\n",
    "    \n"
   ]
  },
  {
   "cell_type": "code",
   "execution_count": null,
   "metadata": {},
   "outputs": [],
   "source": []
  }
 ],
 "metadata": {
  "colab": {
   "collapsed_sections": [],
   "name": "Assignment5.ipynb",
   "provenance": []
  },
  "kernelspec": {
   "display_name": "Python 3",
   "language": "python",
   "name": "python3"
  },
  "language_info": {
   "codemirror_mode": {
    "name": "ipython",
    "version": 3
   },
   "file_extension": ".py",
   "mimetype": "text/x-python",
   "name": "python",
   "nbconvert_exporter": "python",
   "pygments_lexer": "ipython3",
   "version": "3.8.5"
  }
 },
 "nbformat": 4,
 "nbformat_minor": 4
}
